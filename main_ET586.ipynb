{
 "cells": [
  {
   "cell_type": "markdown",
   "metadata": {},
   "source": [
    "# Previsão de fakenews utilizando Naive Bayers \n",
    "\n",
    "### Discente(s):,\n",
    "\n",
    "Joana D'arc,  \n",
    "Erick Vinicius Rebouças Cruz,  \n",
    "\n",
    "\n",
    "### Framework:,\n",
    "TensorFlow/Keras,\n",
    "\n",
    "### Requerimentos:,\n",
    "1. Python 3.9,\n",
    "2. Tensorflow (conda install -c conda-forge tensorflow-gpu=2.10),\n",
    "3. Pandas,\n",
    "4. Matplotlib,\n",
    "5. Sklearn,\n",
    "6. Numpy,\n",
    "7. Dataset: https://www.kaggle.com/datasets/clmentbisaillon/fake-and-real-news-dataset  \n",
    "\n",
    "Etapas do Projeto:,\n",
    "1. Carregamento e Exploração dos Dados,\n",
    "2. Pré-processamento,\n",
    "3. Otimização de Hiperparâmetros com Optuna,\n",
    "4. Analisando dados encontrados,\n",
    "5. Criação do Naive Bayers  \n",
    "6. Treinamento e Validação do Modelo,\n",
    "7. Avaliação e Previsões  "
   ]
  },
  {
   "cell_type": "code",
   "execution_count": null,
   "metadata": {},
   "outputs": [],
   "source": [
    "import numpy as np\n",
    "import pandas as pd \n",
    "import matplotlib.pyplot as plt\n",
    "import seaborn as sns\n",
    "\n",
    "from sklearn.feature_selection import mutual_info_classif\n",
    "from sklearn.model_selection import train_test_split\n",
    "from sklearn.metrics import confusion_matrix, classification_report, accuracy_score\n",
    "from sklearn.metrics import matthews_corrcoef\n",
    "from sklearn.naive_bayes import MultinomialNB\n",
    "from sklearn.naive_bayes import ComplementNB \n"
   ]
  },
  {
   "cell_type": "code",
   "execution_count": 31,
   "metadata": {},
   "outputs": [
    {
     "name": "stdout",
     "output_type": "stream",
     "text": [
      "(23481, 4)\n"
     ]
    },
    {
     "data": {
      "text/html": [
       "<div>\n",
       "<style scoped>\n",
       "    .dataframe tbody tr th:only-of-type {\n",
       "        vertical-align: middle;\n",
       "    }\n",
       "\n",
       "    .dataframe tbody tr th {\n",
       "        vertical-align: top;\n",
       "    }\n",
       "\n",
       "    .dataframe thead th {\n",
       "        text-align: right;\n",
       "    }\n",
       "</style>\n",
       "<table border=\"1\" class=\"dataframe\">\n",
       "  <thead>\n",
       "    <tr style=\"text-align: right;\">\n",
       "      <th></th>\n",
       "      <th>title</th>\n",
       "      <th>text</th>\n",
       "      <th>subject</th>\n",
       "      <th>date</th>\n",
       "    </tr>\n",
       "  </thead>\n",
       "  <tbody>\n",
       "    <tr>\n",
       "      <th>0</th>\n",
       "      <td>Donald Trump Sends Out Embarrassing New Year’...</td>\n",
       "      <td>Donald Trump just couldn t wish all Americans ...</td>\n",
       "      <td>News</td>\n",
       "      <td>December 31, 2017</td>\n",
       "    </tr>\n",
       "    <tr>\n",
       "      <th>1</th>\n",
       "      <td>Drunk Bragging Trump Staffer Started Russian ...</td>\n",
       "      <td>House Intelligence Committee Chairman Devin Nu...</td>\n",
       "      <td>News</td>\n",
       "      <td>December 31, 2017</td>\n",
       "    </tr>\n",
       "    <tr>\n",
       "      <th>2</th>\n",
       "      <td>Sheriff David Clarke Becomes An Internet Joke...</td>\n",
       "      <td>On Friday, it was revealed that former Milwauk...</td>\n",
       "      <td>News</td>\n",
       "      <td>December 30, 2017</td>\n",
       "    </tr>\n",
       "    <tr>\n",
       "      <th>3</th>\n",
       "      <td>Trump Is So Obsessed He Even Has Obama’s Name...</td>\n",
       "      <td>On Christmas day, Donald Trump announced that ...</td>\n",
       "      <td>News</td>\n",
       "      <td>December 29, 2017</td>\n",
       "    </tr>\n",
       "    <tr>\n",
       "      <th>4</th>\n",
       "      <td>Pope Francis Just Called Out Donald Trump Dur...</td>\n",
       "      <td>Pope Francis used his annual Christmas Day mes...</td>\n",
       "      <td>News</td>\n",
       "      <td>December 25, 2017</td>\n",
       "    </tr>\n",
       "  </tbody>\n",
       "</table>\n",
       "</div>"
      ],
      "text/plain": [
       "                                               title  \\\n",
       "0   Donald Trump Sends Out Embarrassing New Year’...   \n",
       "1   Drunk Bragging Trump Staffer Started Russian ...   \n",
       "2   Sheriff David Clarke Becomes An Internet Joke...   \n",
       "3   Trump Is So Obsessed He Even Has Obama’s Name...   \n",
       "4   Pope Francis Just Called Out Donald Trump Dur...   \n",
       "\n",
       "                                                text subject  \\\n",
       "0  Donald Trump just couldn t wish all Americans ...    News   \n",
       "1  House Intelligence Committee Chairman Devin Nu...    News   \n",
       "2  On Friday, it was revealed that former Milwauk...    News   \n",
       "3  On Christmas day, Donald Trump announced that ...    News   \n",
       "4  Pope Francis used his annual Christmas Day mes...    News   \n",
       "\n",
       "                date  \n",
       "0  December 31, 2017  \n",
       "1  December 31, 2017  \n",
       "2  December 30, 2017  \n",
       "3  December 29, 2017  \n",
       "4  December 25, 2017  "
      ]
     },
     "execution_count": 31,
     "metadata": {},
     "output_type": "execute_result"
    }
   ],
   "source": [
    "# Carregamento dos dados falsos\n",
    "data_fake = pd.read_csv('data/Fake.csv')\n",
    "\n",
    "print(data_fake.shape)\n",
    "data_fake.head()\n"
   ]
  },
  {
   "cell_type": "code",
   "execution_count": 32,
   "metadata": {},
   "outputs": [
    {
     "name": "stdout",
     "output_type": "stream",
     "text": [
      "(21417, 4)\n"
     ]
    },
    {
     "data": {
      "text/html": [
       "<div>\n",
       "<style scoped>\n",
       "    .dataframe tbody tr th:only-of-type {\n",
       "        vertical-align: middle;\n",
       "    }\n",
       "\n",
       "    .dataframe tbody tr th {\n",
       "        vertical-align: top;\n",
       "    }\n",
       "\n",
       "    .dataframe thead th {\n",
       "        text-align: right;\n",
       "    }\n",
       "</style>\n",
       "<table border=\"1\" class=\"dataframe\">\n",
       "  <thead>\n",
       "    <tr style=\"text-align: right;\">\n",
       "      <th></th>\n",
       "      <th>title</th>\n",
       "      <th>text</th>\n",
       "      <th>subject</th>\n",
       "      <th>date</th>\n",
       "    </tr>\n",
       "  </thead>\n",
       "  <tbody>\n",
       "    <tr>\n",
       "      <th>0</th>\n",
       "      <td>As U.S. budget fight looms, Republicans flip t...</td>\n",
       "      <td>WASHINGTON (Reuters) - The head of a conservat...</td>\n",
       "      <td>politicsNews</td>\n",
       "      <td>December 31, 2017</td>\n",
       "    </tr>\n",
       "    <tr>\n",
       "      <th>1</th>\n",
       "      <td>U.S. military to accept transgender recruits o...</td>\n",
       "      <td>WASHINGTON (Reuters) - Transgender people will...</td>\n",
       "      <td>politicsNews</td>\n",
       "      <td>December 29, 2017</td>\n",
       "    </tr>\n",
       "    <tr>\n",
       "      <th>2</th>\n",
       "      <td>Senior U.S. Republican senator: 'Let Mr. Muell...</td>\n",
       "      <td>WASHINGTON (Reuters) - The special counsel inv...</td>\n",
       "      <td>politicsNews</td>\n",
       "      <td>December 31, 2017</td>\n",
       "    </tr>\n",
       "    <tr>\n",
       "      <th>3</th>\n",
       "      <td>FBI Russia probe helped by Australian diplomat...</td>\n",
       "      <td>WASHINGTON (Reuters) - Trump campaign adviser ...</td>\n",
       "      <td>politicsNews</td>\n",
       "      <td>December 30, 2017</td>\n",
       "    </tr>\n",
       "    <tr>\n",
       "      <th>4</th>\n",
       "      <td>Trump wants Postal Service to charge 'much mor...</td>\n",
       "      <td>SEATTLE/WASHINGTON (Reuters) - President Donal...</td>\n",
       "      <td>politicsNews</td>\n",
       "      <td>December 29, 2017</td>\n",
       "    </tr>\n",
       "  </tbody>\n",
       "</table>\n",
       "</div>"
      ],
      "text/plain": [
       "                                               title  \\\n",
       "0  As U.S. budget fight looms, Republicans flip t...   \n",
       "1  U.S. military to accept transgender recruits o...   \n",
       "2  Senior U.S. Republican senator: 'Let Mr. Muell...   \n",
       "3  FBI Russia probe helped by Australian diplomat...   \n",
       "4  Trump wants Postal Service to charge 'much mor...   \n",
       "\n",
       "                                                text       subject  \\\n",
       "0  WASHINGTON (Reuters) - The head of a conservat...  politicsNews   \n",
       "1  WASHINGTON (Reuters) - Transgender people will...  politicsNews   \n",
       "2  WASHINGTON (Reuters) - The special counsel inv...  politicsNews   \n",
       "3  WASHINGTON (Reuters) - Trump campaign adviser ...  politicsNews   \n",
       "4  SEATTLE/WASHINGTON (Reuters) - President Donal...  politicsNews   \n",
       "\n",
       "                 date  \n",
       "0  December 31, 2017   \n",
       "1  December 29, 2017   \n",
       "2  December 31, 2017   \n",
       "3  December 30, 2017   \n",
       "4  December 29, 2017   "
      ]
     },
     "execution_count": 32,
     "metadata": {},
     "output_type": "execute_result"
    }
   ],
   "source": [
    "# Carregamento dos dados verdadeiros\n",
    "data_true = pd.read_csv('data/True.csv')\n",
    "print(data_true.shape)\n",
    "data_true.head()"
   ]
  },
  {
   "cell_type": "code",
   "execution_count": 33,
   "metadata": {},
   "outputs": [],
   "source": [
    "data_true['label'] = 1\n",
    "data_fake['label'] = 0"
   ]
  },
  {
   "cell_type": "code",
   "execution_count": 34,
   "metadata": {},
   "outputs": [
    {
     "data": {
      "text/html": [
       "<div>\n",
       "<style scoped>\n",
       "    .dataframe tbody tr th:only-of-type {\n",
       "        vertical-align: middle;\n",
       "    }\n",
       "\n",
       "    .dataframe tbody tr th {\n",
       "        vertical-align: top;\n",
       "    }\n",
       "\n",
       "    .dataframe thead th {\n",
       "        text-align: right;\n",
       "    }\n",
       "</style>\n",
       "<table border=\"1\" class=\"dataframe\">\n",
       "  <thead>\n",
       "    <tr style=\"text-align: right;\">\n",
       "      <th></th>\n",
       "      <th>title</th>\n",
       "      <th>text</th>\n",
       "      <th>subject</th>\n",
       "      <th>date</th>\n",
       "      <th>label</th>\n",
       "      <th>Article</th>\n",
       "    </tr>\n",
       "  </thead>\n",
       "  <tbody>\n",
       "    <tr>\n",
       "      <th>5747</th>\n",
       "      <td>Trump adopts aggressive posture toward Iran af...</td>\n",
       "      <td>WASHINGTON (Reuters) - The White House put Ira...</td>\n",
       "      <td>politicsNews</td>\n",
       "      <td>February 1, 2017</td>\n",
       "      <td>1</td>\n",
       "      <td>Trump adopts aggressive posture toward Iran af...</td>\n",
       "    </tr>\n",
       "    <tr>\n",
       "      <th>8953</th>\n",
       "      <td>Hero Activist Corners ‘Full Of Sh*t’ Ben Cars...</td>\n",
       "      <td>Republican presidential hopeful Ben Carson was...</td>\n",
       "      <td>News</td>\n",
       "      <td>January 5, 2016</td>\n",
       "      <td>0</td>\n",
       "      <td>Hero Activist Corners ‘Full Of Sh*t’ Ben Cars...</td>\n",
       "    </tr>\n",
       "    <tr>\n",
       "      <th>16682</th>\n",
       "      <td>U.S. needs to work with others on North Korea ...</td>\n",
       "      <td>WASHINGTON (Reuters) - Singapore Prime Ministe...</td>\n",
       "      <td>worldnews</td>\n",
       "      <td>October 23, 2017</td>\n",
       "      <td>1</td>\n",
       "      <td>U.S. needs to work with others on North Korea ...</td>\n",
       "    </tr>\n",
       "    <tr>\n",
       "      <th>17485</th>\n",
       "      <td>Four Moldovans killed in Ivory Coast plane cra...</td>\n",
       "      <td>ABIDJAN (Reuters) - Four Moldovan nationals we...</td>\n",
       "      <td>worldnews</td>\n",
       "      <td>October 14, 2017</td>\n",
       "      <td>1</td>\n",
       "      <td>Four Moldovans killed in Ivory Coast plane cra...</td>\n",
       "    </tr>\n",
       "    <tr>\n",
       "      <th>780</th>\n",
       "      <td>Michelle Obama Went To A Birthday Party, So C...</td>\n",
       "      <td>Michelle Obama really did it this time. The fo...</td>\n",
       "      <td>News</td>\n",
       "      <td>July 23, 2017</td>\n",
       "      <td>0</td>\n",
       "      <td>Michelle Obama Went To A Birthday Party, So C...</td>\n",
       "    </tr>\n",
       "    <tr>\n",
       "      <th>...</th>\n",
       "      <td>...</td>\n",
       "      <td>...</td>\n",
       "      <td>...</td>\n",
       "      <td>...</td>\n",
       "      <td>...</td>\n",
       "      <td>...</td>\n",
       "    </tr>\n",
       "    <tr>\n",
       "      <th>17615</th>\n",
       "      <td>Mattis hopeful freeing of hostages in Pakistan...</td>\n",
       "      <td>MIAMI (Reuters) - U.S. Defense Secretary Jim M...</td>\n",
       "      <td>worldnews</td>\n",
       "      <td>October 12, 2017</td>\n",
       "      <td>1</td>\n",
       "      <td>Mattis hopeful freeing of hostages in Pakistan...</td>\n",
       "    </tr>\n",
       "    <tr>\n",
       "      <th>7222</th>\n",
       "      <td>China, U.S. must avoid excessive mutual suspic...</td>\n",
       "      <td>WASHINGTON (Reuters) - China and the United St...</td>\n",
       "      <td>politicsNews</td>\n",
       "      <td>November 17, 2016</td>\n",
       "      <td>1</td>\n",
       "      <td>China, U.S. must avoid excessive mutual suspic...</td>\n",
       "    </tr>\n",
       "    <tr>\n",
       "      <th>11220</th>\n",
       "      <td>White House: IAEA report on Iran nuclear deal ...</td>\n",
       "      <td>WASHINGTON (Reuters) - The White House on Frid...</td>\n",
       "      <td>politicsNews</td>\n",
       "      <td>January 15, 2016</td>\n",
       "      <td>1</td>\n",
       "      <td>White House: IAEA report on Iran nuclear deal ...</td>\n",
       "    </tr>\n",
       "    <tr>\n",
       "      <th>14649</th>\n",
       "      <td>Kremlin says to host Syria summit with officia...</td>\n",
       "      <td>MOSCOW (Reuters) - The Kremlin said on Thursda...</td>\n",
       "      <td>worldnews</td>\n",
       "      <td>November 16, 2017</td>\n",
       "      <td>1</td>\n",
       "      <td>Kremlin says to host Syria summit with officia...</td>\n",
       "    </tr>\n",
       "    <tr>\n",
       "      <th>18184</th>\n",
       "      <td>Austria's conservatives, Social Democrats to s...</td>\n",
       "      <td>VIENNA (Reuters) - Austria s co-governing Soci...</td>\n",
       "      <td>worldnews</td>\n",
       "      <td>October 6, 2017</td>\n",
       "      <td>1</td>\n",
       "      <td>Austria's conservatives, Social Democrats to s...</td>\n",
       "    </tr>\n",
       "  </tbody>\n",
       "</table>\n",
       "<p>44898 rows × 6 columns</p>\n",
       "</div>"
      ],
      "text/plain": [
       "                                                   title  \\\n",
       "5747   Trump adopts aggressive posture toward Iran af...   \n",
       "8953    Hero Activist Corners ‘Full Of Sh*t’ Ben Cars...   \n",
       "16682  U.S. needs to work with others on North Korea ...   \n",
       "17485  Four Moldovans killed in Ivory Coast plane cra...   \n",
       "780     Michelle Obama Went To A Birthday Party, So C...   \n",
       "...                                                  ...   \n",
       "17615  Mattis hopeful freeing of hostages in Pakistan...   \n",
       "7222   China, U.S. must avoid excessive mutual suspic...   \n",
       "11220  White House: IAEA report on Iran nuclear deal ...   \n",
       "14649  Kremlin says to host Syria summit with officia...   \n",
       "18184  Austria's conservatives, Social Democrats to s...   \n",
       "\n",
       "                                                    text       subject  \\\n",
       "5747   WASHINGTON (Reuters) - The White House put Ira...  politicsNews   \n",
       "8953   Republican presidential hopeful Ben Carson was...          News   \n",
       "16682  WASHINGTON (Reuters) - Singapore Prime Ministe...     worldnews   \n",
       "17485  ABIDJAN (Reuters) - Four Moldovan nationals we...     worldnews   \n",
       "780    Michelle Obama really did it this time. The fo...          News   \n",
       "...                                                  ...           ...   \n",
       "17615  MIAMI (Reuters) - U.S. Defense Secretary Jim M...     worldnews   \n",
       "7222   WASHINGTON (Reuters) - China and the United St...  politicsNews   \n",
       "11220  WASHINGTON (Reuters) - The White House on Frid...  politicsNews   \n",
       "14649  MOSCOW (Reuters) - The Kremlin said on Thursda...     worldnews   \n",
       "18184  VIENNA (Reuters) - Austria s co-governing Soci...     worldnews   \n",
       "\n",
       "                     date  label  \\\n",
       "5747    February 1, 2017       1   \n",
       "8953      January 5, 2016      0   \n",
       "16682   October 23, 2017       1   \n",
       "17485   October 14, 2017       1   \n",
       "780         July 23, 2017      0   \n",
       "...                   ...    ...   \n",
       "17615   October 12, 2017       1   \n",
       "7222   November 17, 2016       1   \n",
       "11220   January 15, 2016       1   \n",
       "14649  November 16, 2017       1   \n",
       "18184    October 6, 2017       1   \n",
       "\n",
       "                                                 Article  \n",
       "5747   Trump adopts aggressive posture toward Iran af...  \n",
       "8953    Hero Activist Corners ‘Full Of Sh*t’ Ben Cars...  \n",
       "16682  U.S. needs to work with others on North Korea ...  \n",
       "17485  Four Moldovans killed in Ivory Coast plane cra...  \n",
       "780     Michelle Obama Went To A Birthday Party, So C...  \n",
       "...                                                  ...  \n",
       "17615  Mattis hopeful freeing of hostages in Pakistan...  \n",
       "7222   China, U.S. must avoid excessive mutual suspic...  \n",
       "11220  White House: IAEA report on Iran nuclear deal ...  \n",
       "14649  Kremlin says to host Syria summit with officia...  \n",
       "18184  Austria's conservatives, Social Democrats to s...  \n",
       "\n",
       "[44898 rows x 6 columns]"
      ]
     },
     "execution_count": 34,
     "metadata": {},
     "output_type": "execute_result"
    }
   ],
   "source": [
    "df = pd.concat([data_true, data_fake])\n",
    "df[\"Article\"] = df[\"title\"] + \" \" + df[\"text\"]\n",
    "df.sample(frac = 1) #Shuffle 100%"
   ]
  },
  {
   "cell_type": "code",
   "execution_count": null,
   "metadata": {},
   "outputs": [],
   "source": []
  },
  {
   "cell_type": "markdown",
   "metadata": {},
   "source": []
  },
  {
   "cell_type": "code",
   "execution_count": 35,
   "metadata": {},
   "outputs": [],
   "source": [
    "# Fazer a formatação dos textos e tokenização dos mesmos"
   ]
  },
  {
   "cell_type": "code",
   "execution_count": 36,
   "metadata": {},
   "outputs": [
    {
     "name": "stderr",
     "output_type": "stream",
     "text": [
      "[nltk_data] Downloading package stopwords to\n",
      "[nltk_data]     C:\\Users\\Erick\\AppData\\Roaming\\nltk_data...\n",
      "[nltk_data]   Package stopwords is already up-to-date!\n"
     ]
    }
   ],
   "source": [
    "import re\n",
    "import nltk\n",
    "# Caso ainda não tenha os stopwords baixados\n",
    "nltk.download('stopwords')\n",
    "from nltk.corpus import stopwords\n",
    "stop_words = stopwords.words('english')\n",
    "\n",
    "def clean_text(text):\n",
    "    # Coloca o texto em minúsculas\n",
    "    text = text.lower()\n",
    "    # Remove caracteres que não sejam letras e espaços\n",
    "    text = re.sub(r'[^a-z\\s]', '', text)\n",
    "    # Remove palavras irrelevantes (stopwords)\n",
    "    text = \" \".join(word for word in text.split() if word not in stop_words)\n",
    "    return text\n",
    "\n",
    "# Aplica a limpeza do texto\n",
    "df[\"Article_clean\"] = df[\"Article\"].apply(clean_text)\n",
    "\n",
    "# Tokenização: converte os textos em uma matriz de contagem de termos\n",
    "from sklearn.feature_extraction.text import CountVectorizer\n",
    "vectorizer = CountVectorizer()\n",
    "X = vectorizer.fit_transform(df[\"Article_clean\"])\n",
    "y = df[\"label\"]\n"
   ]
  },
  {
   "cell_type": "code",
   "execution_count": null,
   "metadata": {},
   "outputs": [],
   "source": []
  },
  {
   "cell_type": "markdown",
   "metadata": {},
   "source": [
    "# Divisão de dados e treinamento com Naive Bayes"
   ]
  },
  {
   "cell_type": "code",
   "execution_count": 64,
   "metadata": {},
   "outputs": [],
   "source": [
    "# Divide os dados em treino e teste (80% treino, 20% teste)\n",
    "X_train, X_test, y_train, y_test = train_test_split(X, y, test_size=0.2, random_state=42)\n",
    "\n"
   ]
  },
  {
   "cell_type": "code",
   "execution_count": 70,
   "metadata": {},
   "outputs": [
    {
     "name": "stdout",
     "output_type": "stream",
     "text": [
      "Matriz de Confusão:\n",
      "[[4429  221]\n",
      " [ 149 4181]]\n",
      "\n",
      "Relatório de Classificação:\n",
      "              precision    recall  f1-score   support\n",
      "\n",
      "           0       0.97      0.95      0.96      4650\n",
      "           1       0.95      0.97      0.96      4330\n",
      "\n",
      "    accuracy                           0.96      8980\n",
      "   macro avg       0.96      0.96      0.96      8980\n",
      "weighted avg       0.96      0.96      0.96      8980\n",
      "\n",
      "Coeficiente de Correlação de Matthews (MCC): 0.9176552181494768\n",
      "\n",
      "Acurácia: 0.9587973273942093\n"
     ]
    }
   ],
   "source": [
    "# Criação e treinamento do classificador Naive Bayes (utilizando ComplementNB)\n",
    "clf = ComplementNB()\n",
    "clf.fit(X_train, y_train)\n",
    "\n",
    "# Realiza predições para os dados de teste\n",
    "y_pred = clf.predict(X_test)\n",
    "\n",
    "print(\"Matriz de Confusão:\")\n",
    "print(confusion_matrix(y_test, y_pred))\n",
    "\n",
    "print(\"\\nRelatório de Classificação:\")\n",
    "print(classification_report(y_test, y_pred))\n",
    "mcc = matthews_corrcoef(y_test, y_pred)\n",
    "print(\"Coeficiente de Correlação de Matthews (MCC):\", mcc)\n",
    "clf_acc = accuracy_score(y_test, y_pred)\n",
    "print(\"\\nAcurácia:\", clf_acc)\n"
   ]
  },
  {
   "cell_type": "code",
   "execution_count": 72,
   "metadata": {},
   "outputs": [
    {
     "name": "stdout",
     "output_type": "stream",
     "text": [
      "Matriz de Confusão:\n",
      "[[4430  220]\n",
      " [ 149 4181]]\n",
      "\n",
      "Relatório de Classificação:\n",
      "              precision    recall  f1-score   support\n",
      "\n",
      "           0       0.97      0.95      0.96      4650\n",
      "           1       0.95      0.97      0.96      4330\n",
      "\n",
      "    accuracy                           0.96      8980\n",
      "   macro avg       0.96      0.96      0.96      8980\n",
      "weighted avg       0.96      0.96      0.96      8980\n",
      "\n",
      "Coeficiente de Correlação de Matthews (MCC): 0.9178742075133131\n",
      "\n",
      "Acurácia: 0.9589086859688196\n"
     ]
    }
   ],
   "source": [
    "mltn = MultinomialNB()\n",
    "mltn.fit(X_train, y_train)\n",
    "\n",
    "\n",
    "y_pred = mltn.predict(X_test)\n",
    "print(\"Matriz de Confusão:\")\n",
    "print(confusion_matrix(y_test, y_pred))\n",
    "\n",
    "print(\"\\nRelatório de Classificação:\")\n",
    "print(classification_report(y_test, y_pred))\n",
    "# Após obter as predições (y_pred) e os valores reais (y_test):\n",
    "mcc = matthews_corrcoef(y_test, y_pred)\n",
    "print(\"Coeficiente de Correlação de Matthews (MCC):\", mcc)\n",
    "mltn_acc = accuracy_score(y_test, y_pred)\n",
    "print(\"\\nAcurácia:\", mltn_acc)"
   ]
  },
  {
   "cell_type": "code",
   "execution_count": 67,
   "metadata": {},
   "outputs": [
    {
     "data": {
      "text/plain": [
       "-0.00011135857461030962"
      ]
     },
     "execution_count": 67,
     "metadata": {},
     "output_type": "execute_result"
    }
   ],
   "source": [
    "acc = clf_acc - mltn_acc\n",
    "acc"
   ]
  },
  {
   "cell_type": "code",
   "execution_count": 68,
   "metadata": {},
   "outputs": [
    {
     "name": "stdout",
     "output_type": "stream",
     "text": [
      "Precision (ComplementNB): 0.9497955474784189\n",
      "Precision (MultinomialNB): 0.9500113610543058\n"
     ]
    }
   ],
   "source": [
    "from sklearn.metrics import precision_score\n",
    "\n",
    "# Para o classificador ComplementNB\n",
    "precision_complement = precision_score(y_test, clf.predict(X_test))\n",
    "print(\"Precision (ComplementNB):\", precision_complement)\n",
    "\n",
    "# Para o classificador MultinomialNB\n",
    "precision_multinomial = precision_score(y_test, mltn.predict(X_test))\n",
    "print(\"Precision (MultinomialNB):\", precision_multinomial)"
   ]
  },
  {
   "cell_type": "code",
   "execution_count": null,
   "metadata": {},
   "outputs": [
    {
     "name": "stdout",
     "output_type": "stream",
     "text": [
      "Coeficiente de Correlação de Matthews (MCC): 0.9178742075133131\n"
     ]
    }
   ],
   "source": [
    "\n",
    "\n",
    "# Após obter as predições (y_pred) e os valores reais (y_test):\n",
    "mcc = matthews_corrcoef(y_test, y_pred)\n",
    "print(\"Coeficiente de Correlação de Matthews (MCC):\", mcc)\n"
   ]
  }
 ],
 "metadata": {
  "kernelspec": {
   "display_name": "Study",
   "language": "python",
   "name": "python3"
  },
  "language_info": {
   "codemirror_mode": {
    "name": "ipython",
    "version": 3
   },
   "file_extension": ".py",
   "mimetype": "text/x-python",
   "name": "python",
   "nbconvert_exporter": "python",
   "pygments_lexer": "ipython3",
   "version": "3.12.4"
  }
 },
 "nbformat": 4,
 "nbformat_minor": 2
}
